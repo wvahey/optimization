{
 "cells": [
  {
   "cell_type": "markdown",
   "metadata": {
    "id": "H-pODYNNZHL_"
   },
   "source": [
    "## Cashflow management problem"
   ]
  },
  {
   "cell_type": "markdown",
   "metadata": {
    "id": "cNRQiw2BZHMI"
   },
   "source": [
    "__Details of the problem are as follows:__\n",
    "+ __Periods:__ Jan-Jun (Cash Flows pay the 1st each month)\n",
    "+ __Liability__ = [150.0,100.0,-200.0,200.0,-50.0,-350.0]\n",
    "+ __Financial Instruments:__\n",
    "    + __Line of credit:__ Limit 100K, interest = 1% per month\n",
    "    + __Commercial paper:__ Unlimited, duration = 3 months, interest = 2% for 3 months\n",
    "    + __Bank account:__ Unlimited, interest = 0.3% per month"
   ]
  },
  {
   "cell_type": "code",
   "execution_count": 15,
   "metadata": {
    "executionInfo": {
     "elapsed": 432,
     "status": "ok",
     "timestamp": 1663097090608,
     "user": {
      "displayName": "Garud N. Iyengar",
      "userId": "14042909347953565562"
     },
     "user_tz": 240
    },
    "id": "xHglkLvfZHMJ"
   },
   "outputs": [],
   "source": [
    "import numpy as np\n",
    "from tabulate import *\n",
    "import cvxpy as cvx #library to solve optimization problems"
   ]
  },
  {
   "cell_type": "markdown",
   "metadata": {
    "id": "qo7TBP5KZHMJ"
   },
   "source": [
    "__Set up the data and variables for the problem__"
   ]
  },
  {
   "cell_type": "code",
   "execution_count": 37,
   "metadata": {
    "executionInfo": {
     "elapsed": 132,
     "status": "ok",
     "timestamp": 1663097092148,
     "user": {
      "displayName": "Garud N. Iyengar",
      "userId": "14042909347953565562"
     },
     "user_tz": 240
    },
    "id": "ISMJ_EUfZHMK"
   },
   "outputs": [],
   "source": [
    "#Creates array for CFs in a row vector\n",
    "liability = np.array([150.0,100.0,-200.0,200.0,-50.0,-350.0])\n",
    "\n",
    "#Variables: 1) time period #s (cols), 2) LoC%, 3) paper%, 4) rfr%, 5) paper period, 6) LoC upper limit\n",
    "ntimes = len(liability); #this returns a value of 6 AND NOT 5 as np.array is counted in full unlike list\n",
    "loan_int = 1;\n",
    "paper_int = 2;\n",
    "rf_int = 0.3;\n",
    "paper_period = 3;\n",
    "loan_limit = 100;"
   ]
  },
  {
   "cell_type": "markdown",
   "metadata": {
    "id": "XrlXWKQlZHMK"
   },
   "source": [
    "__Set up the (\"decision\") variables__ "
   ]
  },
  {
   "cell_type": "code",
   "execution_count": 38,
   "metadata": {
    "executionInfo": {
     "elapsed": 110,
     "status": "ok",
     "timestamp": 1663097094163,
     "user": {
      "displayName": "Garud N. Iyengar",
      "userId": "14042909347953565562"
     },
     "user_tz": 240
    },
    "id": "GEpUo-xZZHMK"
   },
   "outputs": [],
   "source": [
    "#int obj for cvx.Variables are 5/3/6 for x/y/z and LoC/paper/cash, respectively (diff time constraints)\n",
    "x = cvx.Variable(ntimes-1)\n",
    "y = cvx.Variable(ntimes-paper_period)\n",
    "z = cvx.Variable(ntimes)"
   ]
  },
  {
   "cell_type": "markdown",
   "metadata": {
    "id": "cXy9AXs_ZHMK"
   },
   "source": [
    "__Set up the constraints for each time period and the objective function__"
   ]
  },
  {
   "cell_type": "code",
   "execution_count": 44,
   "metadata": {
    "executionInfo": {
     "elapsed": 123,
     "status": "ok",
     "timestamp": 1663097095878,
     "user": {
      "displayName": "Garud N. Iyengar",
      "userId": "14042909347953565562"
     },
     "user_tz": 240
    },
    "id": "H9CXOgruZHML"
   },
   "outputs": [],
   "source": [
    "#creates empty list to hold each constraint as we do our loop thru periods below \n",
    "constraints = [];\n",
    "\n",
    "#create flow constraints for each time period (loops thru n-periods using range of periods)\n",
    "for t in range(ntimes):    \n",
    "    \n",
    "    #creates empty list to be filled with decision variables thru loop (sums CFs for period)\n",
    "    expr = []\n",
    "\n",
    "    #if current month greater than 1st month: subtract LoC interest calc'd on last month's balance\n",
    "    if (t>0):\n",
    "        expr += [-(1+loan_int/100)*x[t-1]]; \n",
    "    #if current month less than final month: add LoC loans taken this month\n",
    "    if (t<ntimes-1):\n",
    "        expr += [x[t]] \n",
    "    #if current month greater than 3rd month: subtract paper interest calc'd -3 month's ago balance\n",
    "    if (t>paper_period-1):\n",
    "        expr += [-(1+paper_int/100)*y[t-paper_period]]; \n",
    "    #if current month is less than 4th month: add paper loans taken this month\n",
    "    if (t<ntimes-paper_period):\n",
    "        expr += [y[t]]; \n",
    "    #if current month greater than 1st month: add cash return calc'd on last month's cash balance\n",
    "    if (t>0):\n",
    "        expr += [(1+rf_int/100)*z[t-1]];     \n",
    "    #add current month CF to calc (flip sign)\n",
    "    expr += [-z[t]];     \n",
    "    \n",
    "    #create object for t period in loop so cash >= liability and add it to constraint list\n",
    "    constraints += [sum(expr) >= liability[t]]; \n",
    "\n",
    "#add additional constraint of LoC's upper bound to constraint list\n",
    "constraints += [x <= loan_limit]\n",
    "\n",
    "#add non-negativity constraint for decision variables (financial tools) to constraint list\n",
    "constraints += [x>=0, y>=0, z>=0];\n",
    "\n",
    "#objective function (ntimes-1 b/c ntimes is max(range index)+1 given it's a length of an np.array)\n",
    "objective = cvx.Maximize(z[ntimes-1]);"
   ]
  },
  {
   "cell_type": "markdown",
   "metadata": {
    "id": "lPJv-nRZZHML"
   },
   "source": [
    "__Set up the optimization and solve it using the default cvxpy solver__"
   ]
  },
  {
   "cell_type": "code",
   "execution_count": 71,
   "metadata": {
    "colab": {
     "base_uri": "https://localhost:8080/"
    },
    "executionInfo": {
     "elapsed": 91,
     "status": "ok",
     "timestamp": 1663097097739,
     "user": {
      "displayName": "Garud N. Iyengar",
      "userId": "14042909347953565562"
     },
     "user_tz": 240
    },
    "id": "dJkCDERvZHMM",
    "outputId": "0a1b03f6-7ee0-4742-f84e-33ffd53274e4"
   },
   "outputs": [
    {
     "name": "stdout",
     "output_type": "stream",
     "text": [
      "Problem status: optimal\n",
      "Problem value: 142.50\n",
      "Line of Credit values: [ 0.   12.96  0.    0.   38.78]\n",
      "Commercial Paper values: [150.    87.04 165.03]\n",
      "Cash values: [  0.     0.   351.94   0.     0.   142.5 ]\n"
     ]
    }
   ],
   "source": [
    "#creates/solves problem\n",
    "prob = cvx.Problem(objective, constraints)\n",
    "prob.solve()\n",
    "\n",
    "#sets print options\n",
    "np.set_printoptions(precision=4,suppress=True)\n",
    "\n",
    "#prints values\n",
    "print('Problem status: ' + str(prob.status));\n",
    "if (prob.status == 'optimal'):\n",
    "    print('Problem value: %.2f' % prob.value);\n",
    "    print('Line of Credit values: ' + str(np.round(x.value.transpose(), 2)))\n",
    "    print('Commercial Paper values: ' + str(np.round(y.value.transpose(), 2)))\n",
    "    print('Cash values: ' + str(np.round(z.value.transpose(), 2)))"
   ]
  },
  {
   "cell_type": "markdown",
   "metadata": {},
   "source": [
    "### You left off here so everything below you need to study/review!!!"
   ]
  },
  {
   "cell_type": "code",
   "execution_count": 74,
   "metadata": {},
   "outputs": [
    {
     "name": "stdout",
     "output_type": "stream",
     "text": [
      "['CBC', 'CLARABEL', 'CVXOPT', 'ECOS', 'ECOS_BB', 'GLOP', 'GLPK', 'GLPK_MI', 'GUROBI', 'MOSEK', 'OSQP', 'PDLP', 'SCIP', 'SCIPY', 'SCS', 'XPRESS']\n"
     ]
    }
   ],
   "source": [
    "#prints all possible types of solvers included in cvxpy package\n",
    "print(cvx.installed_solvers()) "
   ]
  },
  {
   "cell_type": "markdown",
   "metadata": {},
   "source": [
    "__Solve the same LP using GLPK_MI__"
   ]
  },
  {
   "cell_type": "code",
   "execution_count": 73,
   "metadata": {
    "colab": {
     "base_uri": "https://localhost:8080/"
    },
    "executionInfo": {
     "elapsed": 215,
     "status": "ok",
     "timestamp": 1663097106776,
     "user": {
      "displayName": "Garud N. Iyengar",
      "userId": "14042909347953565562"
     },
     "user_tz": 240
    },
    "id": "D98ywWfWZHMN",
    "outputId": "bc9e30dc-49eb-4fe7-dfdf-ae50bec8cd92"
   },
   "outputs": [
    {
     "name": "stdout",
     "output_type": "stream",
     "text": [
      "Problem (GLPK) status: optimal\n",
      "Problem (GLPK) value: 142.50\n",
      "Line of Credit (GLPK) values: [-0.   50.98 -0.   -0.   -0.  ]\n",
      "Commercial Paper (GLPK) values: [150.    49.02 203.43]\n",
      "Cash values (GLPK): [ -0.    -0.   351.94  -0.    -0.   142.5 ]\n"
     ]
    }
   ],
   "source": [
    "#creates/solves problem using GLPK.MI solver\n",
    "prob_glpk = cvx.Problem(objective, constraints)\n",
    "prob_glpk.solve(solver=cvx.GLPK_MI)\n",
    "\n",
    "#sets print options\n",
    "np.set_printoptions(precision=2,suppress=True)\n",
    "\n",
    "#prints values\n",
    "print('Problem (GLPK) status: ' + str(prob_glpk.status));\n",
    "if (prob_glpk.status == 'optimal'):\n",
    "    print('Problem (GLPK) value: %.2f' % prob_glpk.value);\n",
    "    print('Line of Credit (GLPK) values: ' + str(np.round(x.value.transpose(), 2)))\n",
    "    print('Commercial Paper (GLPK) values: ' + str(np.round(y.value.transpose(), 2)))\n",
    "    print('Cash values (GLPK): ' + str(np.round(z.value.transpose(), 2)))"
   ]
  },
  {
   "cell_type": "markdown",
   "metadata": {
    "id": "scH3Odj4ZHMO"
   },
   "source": [
    "### Sensitivity analysis via basis"
   ]
  },
  {
   "cell_type": "code",
   "execution_count": 10,
   "metadata": {
    "executionInfo": {
     "elapsed": 2,
     "status": "aborted",
     "timestamp": 1663096489480,
     "user": {
      "displayName": "Garud N. Iyengar",
      "userId": "14042909347953565562"
     },
     "user_tz": 240
    },
    "id": "yxag0MuXZHMO"
   },
   "outputs": [],
   "source": [
    "# Formulate a standard form LP\n",
    "n = (ntimes-1) + (ntimes-paper_period) + ntimes \n",
    "m = ntimes\n",
    "\n",
    "xoffset = 0\n",
    "yoffset = xoffset + (ntimes-1) \n",
    "zoffset = yoffset + (ntimes-paper_period) \n",
    "\n",
    "A = np.zeros((m,n));\n",
    "# liability constraints\n",
    "for i in range(ntimes):\n",
    "    a = np.zeros(n)\n",
    "    if (i<ntimes-1):\n",
    "        a[i] = 1; # loan available\n",
    "    if (i > 0):\n",
    "        a[i-1] = -(1+loan_int/100) # loan has to repaid\n",
    "    if (i < ntimes-paper_period):\n",
    "        a[yoffset+i] = 1 # paper can be issued \n",
    "    if (i >= paper_period):\n",
    "        a[yoffset + i - paper_period] = -(1+paper_int/100)\n",
    "    if (i > 0):\n",
    "        a[zoffset + i-1] = (1+rf_int/100)\n",
    "    a[zoffset + i] = -1\n",
    "    A[i,:] = a\n",
    "    \n",
    "b = np.array(liability).T\n",
    "c = np.zeros((n,1))\n",
    "c[n-1] = 1\n",
    "    "
   ]
  },
  {
   "cell_type": "code",
   "execution_count": 11,
   "metadata": {
    "executionInfo": {
     "elapsed": 3,
     "status": "aborted",
     "timestamp": 1663096489481,
     "user": {
      "displayName": "Garud N. Iyengar",
      "userId": "14042909347953565562"
     },
     "user_tz": 240
    },
    "id": "dj_YWc7iZHMO"
   },
   "outputs": [
    {
     "name": "stdout",
     "output_type": "stream",
     "text": [
      "[ 1  5  6  7 10 13]\n"
     ]
    }
   ],
   "source": [
    "# Define the basis from the gurobi solution\n",
    "tol = 1e-6\n",
    "B = [i for i in range(ntimes-1) if x.value[i] > tol] \n",
    "B += [(yoffset + i) for i in range(ntimes-paper_period) if y.value[i]>tol]\n",
    "B += [(zoffset + i) for i in range(ntimes) if z.value[i]>tol]\n",
    "B = np.array(B)\n",
    "print(B)"
   ]
  },
  {
   "cell_type": "markdown",
   "metadata": {
    "id": "87OJQwLtZHMO"
   },
   "source": [
    "### Sensititive analysis with respect to the right handside"
   ]
  },
  {
   "cell_type": "code",
   "execution_count": 12,
   "metadata": {
    "executionInfo": {
     "elapsed": 3,
     "status": "aborted",
     "timestamp": 1663096489481,
     "user": {
      "displayName": "Garud N. Iyengar",
      "userId": "14042909347953565562"
     },
     "user_tz": 240
    },
    "id": "T08Dkz-uZHMO"
   },
   "outputs": [
    {
     "name": "stdout",
     "output_type": "stream",
     "text": [
      "  Time    Shadow price    RHS Low        RHS     RHS Up\n",
      "------  --------------  ---------  ---------  ---------\n",
      "     1         -1.0373    -0.0000   150.0000   287.3745\n",
      "     2         -1.0302    49.0196   100.0000   238.3197\n",
      "     3         -1.0200  -403.4344  -200.0000   -60.2971\n",
      "     4         -1.0169    -4.0447   200.0000   340.1220\n",
      "     5         -1.0100  -102.0000   -50.0000     0.0000\n",
      "     6         -1.0000  -inf       -350.0000  -207.5031\n"
     ]
    }
   ],
   "source": [
    "# define A_B^{-1}\n",
    "invA_B = np.linalg.inv(A[:,B])\n",
    "\n",
    "# basic solution \n",
    "xB = invA_B.dot(b);\n",
    "\n",
    "LB = -np.inf*np.ones((m,1))\n",
    "UB = np.inf*np.ones((m,1))\n",
    "\n",
    "for i in range(m):\n",
    "    ei = np.zeros((m,1)); ei[i] = 1;\n",
    "    d = invA_B.dot(ei);\n",
    "    for j in range(m):\n",
    "        if (float(d[j]>0)):\n",
    "            LB[i] = max(LB[i], -float(xB[j])/float(d[j]))\n",
    "        elif (float(d[j]<0)):\n",
    "            UB[i] = min(UB[i], -float(xB[j])/float(d[j]))\n",
    "    LB[i] += b[i]\n",
    "    UB[i] += b[i]\n",
    "    \n",
    "np.set_printoptions(precision=4,suppress=True)\n",
    "p = (((c[B]).T).dot(invA_B)).T\n",
    "\n",
    "table = [[t+1, p[t], LB[t], b[t], UB[t]] for t in range(m)];\n",
    "print(tabulate(table, headers=[\"Time\",\"Shadow price\", \"RHS Low\", \"RHS\", \"RHS Up\"], floatfmt=\".4f\")); "
   ]
  },
  {
   "cell_type": "markdown",
   "metadata": {
    "id": "ktDKV_K5ZHMP"
   },
   "source": [
    "### What is maximum interest rate would one still move liability from time 1 to time 6? And how much?\n",
    "\n",
    "The first part, i.e at what maximum interest rate would it still be profitable to move liability, can be answered using the shadow prices. \n",
    "+ An infinitesimal decrease $\\delta$ in the liablility at time $t=1$ increases the objective by $-p_0 \\delta$,  \n",
    "+ and the increase $(1+r)\\delta$ at time $t=6$ decreases the objective by $(1+r)p_5\\delta$\n",
    "+ Move profitable if \n",
    "$$\n",
    "-p_0 + (1+r)p_5 \\geq 0 \\quad \\Rightarrow \\quad r \\leq \\frac{p_0}{p_5} - 1\n",
    "$$\n",
    "\n",
    "However, the second part of the question, i.e. how much would one move, cannot be accurately using the information in the above table, because the table was created by assuming that only one component of the $b$ vector changes at a time. (Or, can it?)\n",
    "\n",
    "So, what happens when multiple components change? One can apply the same methodology. Suppose\n",
    "$$\n",
    "b = b + \\theta d\n",
    "$$\n",
    "for some $\\theta \\in \\mathbb{R}$. The current basis will remain optimal provided\n",
    "$$\n",
    "x_B = A_B^{-1}b + \\theta A_{B}^{-1} d \\geq 0.\n",
    "$$\n",
    "One can use this inequality to compute upper and lower bounds on $\\theta$. \n",
    "\n",
    "In this particular case\n",
    "$$\n",
    "d = \\begin{bmatrix} -1 \\\\ 0 \\\\ \\vdots \\\\ 0 \\\\ (1+r) \\end{bmatrix}\n",
    "$$"
   ]
  },
  {
   "cell_type": "code",
   "execution_count": 13,
   "metadata": {
    "executionInfo": {
     "elapsed": 16657,
     "status": "aborted",
     "timestamp": 1663096489481,
     "user": {
      "displayName": "Garud N. Iyengar",
      "userId": "14042909347953565562"
     },
     "user_tz": 240
    },
    "id": "yV8Vhj6NZHMP"
   },
   "outputs": [
    {
     "name": "stdout",
     "output_type": "stream",
     "text": [
      "Maximum interest rate rmax = 3.729%\n",
      "Maximum liability moved = 150.000\n"
     ]
    }
   ],
   "source": [
    "month = 6;\n",
    "rmax = (p[0]/p[month-1]-1)*100;\n",
    "print('Maximum interest rate rmax = %0.3f%%' % (rmax))\n",
    "\n",
    "# basic solution \n",
    "xB = invA_B.dot(b);\n",
    "\n",
    "theta_low = -np.inf\n",
    "theta_up = np.inf\n",
    "\n",
    "d = np.zeros((m,1)); d[0] = -1; d[month-1] = (1+rmax/100); \n",
    "d = invA_B.dot(d);\n",
    "for j in range(m):\n",
    "    if (float(d[j]>0)):\n",
    "        theta_low = max(theta_low, -float(xB[j])/float(d[j]))\n",
    "    elif (float(d[j]<0)):\n",
    "        theta_up = min(theta_up, -float(xB[j])/float(d[j]))\n",
    "print('Maximum liability moved = %.3f' % theta_up)"
   ]
  },
  {
   "cell_type": "code",
   "execution_count": null,
   "metadata": {
    "executionInfo": {
     "elapsed": 16656,
     "status": "aborted",
     "timestamp": 1663096489481,
     "user": {
      "displayName": "Garud N. Iyengar",
      "userId": "14042909347953565562"
     },
     "user_tz": 240
    },
    "id": "QOyFuCn_ZHMP"
   },
   "outputs": [],
   "source": []
  }
 ],
 "metadata": {
  "colab": {
   "provenance": []
  },
  "kernelspec": {
   "display_name": "Python 3 (ipykernel)",
   "language": "python",
   "name": "python3"
  },
  "language_info": {
   "codemirror_mode": {
    "name": "ipython",
    "version": 3
   },
   "file_extension": ".py",
   "mimetype": "text/x-python",
   "name": "python",
   "nbconvert_exporter": "python",
   "pygments_lexer": "ipython3",
   "version": "3.10.9"
  }
 },
 "nbformat": 4,
 "nbformat_minor": 1
}
