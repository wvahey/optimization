{
 "cells": [
  {
   "cell_type": "markdown",
   "metadata": {},
   "source": [
    "# Cash flow management problem\n",
    "Details of the problem are as follows:\n",
    "+ Liability = [150.0,100.0,-200.0,200.0,-50.0,-350.0]\n",
    "+ Financial Instruments\n",
    "    + Line of credit: Limit 100K, interest = 1% per month\n",
    "    + Commercial paper: Unlimited, duration = 3 months, interest = 2% for 3 months\n",
    "    + Bank account: Unlimited, interest = 0.3% per month"
   ]
  },
  {
   "cell_type": "code",
   "execution_count": 1,
   "metadata": {},
   "outputs": [],
   "source": [
    "# import relevant modules\n",
    "import numpy as np\n",
    "from scipy.optimize import linprog"
   ]
  },
  {
   "cell_type": "code",
   "execution_count": 2,
   "metadata": {},
   "outputs": [],
   "source": [
    "liability = np.array([150.0,100.0,-200.0,200.0,-50.0,-350.0])\n",
    "ntimes = len(liability);\n",
    "paper_period = 3;\n",
    "paper_int = 2;\n",
    "rf_int = 0.3;\n",
    "loan_int = 1;\n",
    "loan_limit = 100;"
   ]
  },
  {
   "cell_type": "markdown",
   "metadata": {},
   "source": [
    "**Linprog syntax**\n",
    "\n",
    "Minimize: c^T * x\n",
    "\n",
    "Subject to: A_ub * x <= b_ub A_eq * x == b_eq\n",
    "\n",
    "**res = linprog(c, A_ub=None, b_ub=None, A_eq=None, b_eq=None, bounds=None, method='simplex', callback=None, options=None)**\n",
    "\n",
    "The bounds for each independent variable in the solution, which can take one of three forms:\n",
    "+ None : **The default bounds, all variables are non-negative.** \n",
    "+ (lb, ub) : If a 2-element sequence is provided, the same lower bound (lb) and upper bound (ub) will be applied to all variables.\n",
    "+ [(lb_0, ub_0), (lb_1, ub_1), …] : If an n x 2 sequence is provided, each variable x_i will be bounded by lb[i] and ub[i].\n",
    "+ Infinite bounds are specified using -np.inf (negative) or np.inf (positive).\n",
    "\n",
    "\n",
    "Variables\n",
    "+ x variables = first (ntimes-1) variables\n",
    "+ y variables = next (ntimes-3) variables\n",
    "+ z variables = next ntimes variables"
   ]
  },
  {
   "cell_type": "code",
   "execution_count": 3,
   "metadata": {},
   "outputs": [],
   "source": [
    "nvars = (ntimes-1) + (ntimes-paper_period) + ntimes\n",
    "objvec = np.zeros(nvars)\n",
    "objvec[nvars-1] = 1; # the last component is to be maximized"
   ]
  },
  {
   "cell_type": "code",
   "execution_count": 4,
   "metadata": {},
   "outputs": [],
   "source": [
    "# Equality constraints\n",
    "Aeq = np.zeros((ntimes,nvars))\n",
    "for t in range(ntimes):\n",
    "    # coefficients of x_t\n",
    "    if (t<ntimes-1):\n",
    "        Aeq[t,t] = 1; # corresponds to x_t\n",
    "    if (t>0):\n",
    "        Aeq[t,t-1] = -(1+loan_int/100); # corresponds to x_{t-1}\n",
    "    \n",
    "    # coefficients of y_t\n",
    "    yoffset = ntimes-1\n",
    "    if (t<ntimes-paper_period):\n",
    "        Aeq[t,yoffset+t] = 1;\n",
    "    if (t>paper_period-1):\n",
    "        Aeq[t,yoffset+t-paper_period] = -(1+paper_int/100)\n",
    "    \n",
    "    # coefficient of z_t\n",
    "    zoffset = (ntimes-1)+(ntimes-paper_period)\n",
    "    if (t>0):\n",
    "        Aeq[t,zoffset+t-1] = 1+rf_int/100\n",
    "    Aeq[t,zoffset+t] = -1;\n",
    "\n",
    "beq = liability"
   ]
  },
  {
   "cell_type": "code",
   "execution_count": 6,
   "metadata": {},
   "outputs": [],
   "source": [
    "Aub = np.zeros((ntimes-1,nvars))\n",
    "for t in range(ntimes-1):\n",
    "    Aub[t,t] = 1\n",
    "bub = loan_limit*np.ones(ntimes-1)"
   ]
  },
  {
   "cell_type": "code",
   "execution_count": 7,
   "metadata": {},
   "outputs": [],
   "source": [
    "# set up and solve the optimization problem\n",
    "res = linprog(-objvec,Aub,bub,Aeq,beq)"
   ]
  },
  {
   "cell_type": "code",
   "execution_count": 8,
   "metadata": {},
   "outputs": [
    {
     "name": "stdout",
     "output_type": "stream",
     "text": [
      "objective value =  142.496949153\n",
      "x =  [  0.          50.98039216   0.           0.           0.        ]\n",
      "y =  [ 150.           49.01960784  203.43436358]\n",
      "z =  [   0.            0.          351.9441675     0.            0.\n",
      "  142.49694915]\n"
     ]
    }
   ],
   "source": [
    "if (res.status == 0): # if optimization solved correctly\n",
    "    var = res.x\n",
    "    x = var[0:ntimes-1]\n",
    "    y = var[yoffset:yoffset+(ntimes-paper_period)]\n",
    "    z = var[zoffset:zoffset+ntimes]\n",
    "    print(\"objective value = \", -res.fun)\n",
    "    print(\"x = \", x)\n",
    "    print(\"y = \", y)\n",
    "    print(\"z = \", z)\n",
    "else:\n",
    "    print(res.message)"
   ]
  },
  {
   "cell_type": "code",
   "execution_count": null,
   "metadata": {},
   "outputs": [],
   "source": []
  }
 ],
 "metadata": {
  "kernelspec": {
   "display_name": "Python 3 (ipykernel)",
   "language": "python",
   "name": "python3"
  },
  "language_info": {
   "codemirror_mode": {
    "name": "ipython",
    "version": 3
   },
   "file_extension": ".py",
   "mimetype": "text/x-python",
   "name": "python",
   "nbconvert_exporter": "python",
   "pygments_lexer": "ipython3",
   "version": "3.10.9"
  }
 },
 "nbformat": 4,
 "nbformat_minor": 2
}
