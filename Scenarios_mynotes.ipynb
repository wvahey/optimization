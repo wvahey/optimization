{
 "cells": [
  {
   "cell_type": "markdown",
   "metadata": {},
   "source": [
    "### Steps to Solve 'Scenarios' Linear Optimization Problem:\n",
    "1) Ensure functions in optimization problem are indeed linear (scalar only)\n",
    "2) What is the \"Objective Function\"? It is to minimize costs subject to our constraints\n",
    "3) What are the \"Constraints\"? Clear return hurdles in each scenario with position size >= 0 (long-only!)\n",
    "4) What are the \"Decision Variables\" (solution variables)? Asset position sizes (x values in each scenario)\n",
    "5) Define the \"Problem\" (using cvx.Problem)\n",
    "6) Solve the \"Problem\" (using cvx.Solve)\n",
    "7) Print the Value of the Problem which in below example is optimized min cost (using print) \n",
    "8) Print the Value of the Solutions which in below example are asset position sizes (using print). ROUND UP!"
   ]
  },
  {
   "cell_type": "markdown",
   "metadata": {},
   "source": [
    "### Creates three new variables and prints them using data from below table:\n",
    "|        | Equities | Fixed Income | Public Alternative | Private Alternative | Req\n",
    "| :----- | :------:| :----: | :-----: | :-----: | :--:\n",
    "| Cost        | 2.0 | 3.0 | 1.0 | 0.5\n",
    "| Scenario 1  | 0.2 | 1.0 | 0.1 | 0.5 | 10\n",
    "| Scenario 2  | 0.5 | 1.2 | 1.0 | 0.8 | 20\n",
    "| Scenario 3  | 1.0 | 0.2 | 1.3 | 1.2 | 15\n",
    "##### 1) S --> Array of the return values for the assets \n",
    "     Linear Algebra: 3x4 (coefficient) matrix\n",
    "     Optimization Problem: Input for the \"Objective Function\"\n",
    "##### 2) c --> Array of the cost values for each asset \n",
    "     Linear Algebra: Row vector\n",
    "     Optimization Problem: Input for the \"Objective Function\" \n",
    "##### 3) r --> Array of the scenario return requirement hurdles \n",
    "     Linear Algebra: Column vector\n",
    "     Optimization Problem: Inputs for \"Constraints\" on Objective Function"
   ]
  },
  {
   "cell_type": "code",
   "execution_count": 1,
   "metadata": {},
   "outputs": [],
   "source": [
    "import numpy as np\n",
    "import cvxpy as cvx #for convex optimization problems (transforms problem to standard form, calls solver, & unpacks result)"
   ]
  },
  {
   "cell_type": "code",
   "execution_count": 2,
   "metadata": {
    "executionInfo": {
     "elapsed": 306,
     "status": "ok",
     "timestamp": 1694615158276,
     "user": {
      "displayName": "Garud N. Iyengar",
      "userId": "14042909347953565562"
     },
     "user_tz": 240
    },
    "id": "igS0IkIcD1LK"
   },
   "outputs": [
    {
     "name": "stdout",
     "output_type": "stream",
     "text": [
      "Asset Returns Matrix (Constraint Input): \n",
      "\n",
      "[[0.2 1.  0.1 0.5]\n",
      " [0.5 1.2 1.  0.8]\n",
      " [1.  0.2 1.3 1.2]]\n",
      "\n",
      "Cost Row Vector (Objective Input): [2 3 1 5]\n",
      "\n",
      "Return Col Vector Hurdle (Constraint Input): [10 20 15]\n"
     ]
    }
   ],
   "source": [
    "S = np.array([\n",
    "    [0.2, 1.0, 0.1, 0.5],\n",
    "    [0.5, 1.2, 1.0, 0.8],\n",
    "    [1.0, 0.2, 1.3, 1.2]\n",
    "    ])\n",
    "c = np.array([2,3,1,5])\n",
    "r = np.array([10,20,15])\n",
    "\n",
    "print('Asset Returns Matrix (Constraint Input): \\n\\n'+str(S)+\n",
    "      '\\n\\nCost Row Vector (Objective Input): '+str(c)+\n",
    "      '\\n\\nReturn Col Vector Hurdle (Constraint Input): '+str(r))"
   ]
  },
  {
   "cell_type": "code",
   "execution_count": 3,
   "metadata": {},
   "outputs": [
    {
     "name": "stdout",
     "output_type": "stream",
     "text": [
      "Row #: 3 | Col #: 4\n"
     ]
    }
   ],
   "source": [
    "#np.shape([array_name]) returns tuple (x, y) of array shape where x, y is # rows, cols and prints\n",
    "#Similar to how matrix is defined in linear algebra\n",
    "#Below we set tuple equal to two distinct variables 'm' (scenarios) & 'd' (assets) in a list\n",
    "[m,d] = np.shape(S)\n",
    "print('Row #: '+str(m)+' | Col #: '+str(d))"
   ]
  },
  {
   "cell_type": "markdown",
   "metadata": {},
   "source": [
    "### Creates x, obj, constraints variables using cvs to setup and solve optimization problem:\n",
    "##### 1) x: \"Decision Variable\"\n",
    "\"Decision Variable\" in optimization (asset position size here) and set by cvx.Variable(int) where the int (integer) parameter/argument is the number of (decision) variable(s) so here it is '4' b/c there are 4 assets/cols\n",
    "#### 2) obj: \"Objective Function\"\n",
    "Minimizing cost here and set by cvx.Minimize(), other functions like \"Maximize\" can be used) where cvx function populated w/ array or some operation of multiple arrays. Here we multiply row vector 'c' (cost) by column vector 'x' (asset variables) and request output minimized \n",
    "#### 3) constraints: Constrains the Objective Function (you can dump all constraints into a list here)\n",
    "Here we take product of 'S' and 'x' (asset return matrix * asset position size col vector) and ensure it's >= 'r' (return hurdle col vector) while also enforcing that 'x' >= 0 (no shorts: we need position size to be zero or positive)  "
   ]
  },
  {
   "cell_type": "code",
   "execution_count": 4,
   "metadata": {
    "executionInfo": {
     "elapsed": 511,
     "status": "ok",
     "timestamp": 1694615234833,
     "user": {
      "displayName": "Garud N. Iyengar",
      "userId": "14042909347953565562"
     },
     "user_tz": 240
    },
    "id": "dzI1q6ZR7zfV"
   },
   "outputs": [],
   "source": [
    "x = cvx.Variable(d)\n",
    "obj = cvx.Minimize(c@x)\n",
    "constraints = [S@x >= r, x >=0]"
   ]
  },
  {
   "cell_type": "code",
   "execution_count": 5,
   "metadata": {
    "executionInfo": {
     "elapsed": 2,
     "status": "ok",
     "timestamp": 1694619434189,
     "user": {
      "displayName": "Garud N. Iyengar",
      "userId": "14042909347953565562"
     },
     "user_tz": 240
    },
    "id": "Yhfa9AWr8Y5I"
   },
   "outputs": [
    {
     "name": "stdout",
     "output_type": "stream",
     "text": [
      "Value of Optimization Problem: 37.11\n",
      "Value of Solutions (Asset Position Sizes): [ 0.    8.98 10.16  0.  ]\n",
      "Probem Status: optimal\n"
     ]
    }
   ],
   "source": [
    "#cvx.Problem creates object representing optimization problem: takes objective & constraint as args (obj MUST BE min/max)\n",
    "prob = cvx.Problem(obj,constraints)\n",
    "#prob.solve() (or cvx.Problem object variable name .solve()) solves optimization problem and prints solution value \n",
    "prob.solve()\n",
    "\n",
    "#Try/except is so we can return nature of Problem Status if we get error on 'try' prints\n",
    "try:\n",
    "    #Value of optimization problem (value of objective function at optimal solution, so here it's minimized cost value)\n",
    "    print('Value of Optimization Problem: ' + str(round(prob.value, 2)))\n",
    "    #Prints 'x' value (\"Decision Variables\" --> here position size). NEED print(x.value) syntax to work properly!!!\n",
    "    print('Value of Solutions (Asset Position Sizes): ' + str(np.round(x.value, 2)))\n",
    "    print('Probem Status: ' + str(prob.status)) \n",
    "except:\n",
    "   #3 statuses of optimization problem: Infeasible: no solution given constraints | Optimal: good | Unbounded: \n",
    "    #constraints not defined well enough (+/- infinity value). ARBITRAGE EXCEPTION (Unounded implies infinite profit)\n",
    "    print('\\nProbem Status: ' + str(prob.status)) "
   ]
  },
  {
   "cell_type": "markdown",
   "metadata": {},
   "source": [
    "Rerunning solution to allow shorts. CREATES UNBOUNDED PROBLEM"
   ]
  },
  {
   "cell_type": "code",
   "execution_count": 6,
   "metadata": {},
   "outputs": [
    {
     "name": "stdout",
     "output_type": "stream",
     "text": [
      "Value of Optimization Problem w/ Shorting: -inf\n",
      "\n",
      "Probem Status: unbounded\n"
     ]
    }
   ],
   "source": [
    "#Rerun after loosening constraints to expand feasible solutions to problem by allowing shorts (negative 'x' values)\n",
    "#Generally when EXPANDING feasible solution set optimization value goes lower\n",
    "x_short = cvx.Variable(d)\n",
    "obj_short = cvx.Minimize(c@x_short)\n",
    "constraints_short = [S@x_short >= r]\n",
    "\n",
    "prob_short = cvx.Problem(obj_short,constraints_short)\n",
    "prob_short.solve()\n",
    "\n",
    "try:\n",
    "    print('Value of Optimization Problem w/ Shorting: ' + str(prob_short.value))\n",
    "    print('Value of Solutions w/ Shorting (Asset Position Sizes): ' + str(np.round(x_short.value, 2)))\n",
    "    print('Probem Status: ' + str(prob_short.status)) \n",
    "except:\n",
    "    print('\\nProbem Status: ' + str(prob_short.status))"
   ]
  }
 ],
 "metadata": {
  "colab": {
   "authorship_tag": "ABX9TyPuVkPJh3OzBFtqNyAOX7l2",
   "provenance": []
  },
  "kernelspec": {
   "display_name": "Python 3 (ipykernel)",
   "language": "python",
   "name": "python3"
  },
  "language_info": {
   "codemirror_mode": {
    "name": "ipython",
    "version": 3
   },
   "file_extension": ".py",
   "mimetype": "text/x-python",
   "name": "python",
   "nbconvert_exporter": "python",
   "pygments_lexer": "ipython3",
   "version": "3.10.9"
  }
 },
 "nbformat": 4,
 "nbformat_minor": 1
}
